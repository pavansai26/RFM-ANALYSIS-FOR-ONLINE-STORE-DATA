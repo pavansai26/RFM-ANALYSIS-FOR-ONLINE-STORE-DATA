{
  "nbformat": 4,
  "nbformat_minor": 0,
  "metadata": {
    "colab": {
      "name": "RFM ANALYSIS.ipynb",
      "provenance": [],
      "authorship_tag": "ABX9TyOVIIRdw5hj4LlzW7nHrAz4",
      "include_colab_link": true
    },
    "kernelspec": {
      "name": "python3",
      "display_name": "Python 3"
    }
  },
  "cells": [
    {
      "cell_type": "markdown",
      "metadata": {
        "id": "view-in-github",
        "colab_type": "text"
      },
      "source": [
        "<a href=\"https://colab.research.google.com/github/pavansai26/RFM-ANALYSIS-FOR-ONLINE-STORE-DATA/blob/main/RFM_ANALYSIS.ipynb\" target=\"_parent\"><img src=\"https://colab.research.google.com/assets/colab-badge.svg\" alt=\"Open In Colab\"/></a>"
      ]
    },
    {
      "cell_type": "code",
      "metadata": {
        "id": "Wl3rVWiL101J"
      },
      "source": [
        "import numpy as np\n",
        "import pandas as pd\n",
        "import matplotlib.pyplot as plt"
      ],
      "execution_count": null,
      "outputs": []
    },
    {
      "cell_type": "code",
      "metadata": {
        "id": "Pt9wo8_oJDkA"
      },
      "source": [
        "import warnings\n",
        "warnings.filterwarnings(\"ignore\", category=DeprecationWarning)\n",
        "warnings.filterwarnings(\"ignore\", category=UserWarning)\n",
        "warnings.filterwarnings(\"ignore\", category=RuntimeWarning)\n",
        "warnings.filterwarnings(\"ignore\", category=FutureWarning)"
      ],
      "execution_count": null,
      "outputs": []
    },
    {
      "cell_type": "code",
      "metadata": {
        "id": "uZuQsEdV1vDO"
      },
      "source": [
        "pd.set_option('display.max_rows', 10000)\n",
        "pd.set_option('display.max_columns', 1000)"
      ],
      "execution_count": null,
      "outputs": []
    },
    {
      "cell_type": "code",
      "metadata": {
        "id": "7hAnCmfK16G1"
      },
      "source": [
        "from google.colab import drive\n",
        "drive.mount('/gdrive')"
      ],
      "execution_count": null,
      "outputs": []
    },
    {
      "cell_type": "code",
      "metadata": {
        "id": "hAOHEVJF19JA"
      },
      "source": [
        "data=pd.read_csv('/gdrive/My Drive/Colab Notebooks/Data_csv.csv')"
      ],
      "execution_count": null,
      "outputs": []
    },
    {
      "cell_type": "code",
      "metadata": {
        "id": "WjNJjS-g2Llz"
      },
      "source": [
        "Rtl_data = data"
      ],
      "execution_count": null,
      "outputs": []
    },
    {
      "cell_type": "code",
      "metadata": {
        "id": "1puctAVH2SJU"
      },
      "source": [
        "Rtl_data.head()\n",
        "#Import Online Retail Data containing transactions from 01/12/2010 and 09/12/2011"
      ],
      "execution_count": null,
      "outputs": []
    },
    {
      "cell_type": "code",
      "metadata": {
        "id": "ynGe7JdF2Wrg"
      },
      "source": [
        "#Check the shape (number of columns and rows) in the dataset\n",
        "Rtl_data.shape"
      ],
      "execution_count": null,
      "outputs": []
    },
    {
      "cell_type": "code",
      "metadata": {
        "id": "k-0lHd-i2wHR"
      },
      "source": [
        "Rtl_data.columns"
      ],
      "execution_count": null,
      "outputs": []
    },
    {
      "cell_type": "code",
      "metadata": {
        "id": "UJYr3SSG2jwD"
      },
      "source": [
        "#Customer distribution by country\n",
        "country_cust_data=Rtl_data[['transaction country','customer id']].drop_duplicates()\n",
        "country_cust_data.groupby(['transaction country'])['customer id'].aggregate('count').reset_index().sort_values('customer id', ascending=False)"
      ],
      "execution_count": null,
      "outputs": []
    },
    {
      "cell_type": "code",
      "metadata": {
        "id": "Tmtj4diC3oK3"
      },
      "source": [
        "#Keep only United Kingdom data\n",
        "Rtl_data = Rtl_data[( Rtl_data[\"transaction country\"]=='United Kingdom')].reset_index(drop=True)"
      ],
      "execution_count": null,
      "outputs": []
    },
    {
      "cell_type": "code",
      "metadata": {
        "id": "5tFnY49l4Huv"
      },
      "source": [
        "Rtl_data"
      ],
      "execution_count": null,
      "outputs": []
    },
    {
      "cell_type": "code",
      "metadata": {
        "id": "79ZUd8n55Vjg"
      },
      "source": [
        "#Check for missing values in the dataset\n",
        "Rtl_data.isnull().sum(axis=0)"
      ],
      "execution_count": null,
      "outputs": []
    },
    {
      "cell_type": "code",
      "metadata": {
        "id": "Gp7e0Ymj5eNc"
      },
      "source": [
        "#Remove missing values from CustomerID column, can ignore missing values in description column\n",
        "Rtl_data = Rtl_data[pd.notnull(Rtl_data['customer id'])]\n",
        "\n"
      ],
      "execution_count": null,
      "outputs": []
    },
    {
      "cell_type": "code",
      "metadata": {
        "id": "fFjtYs3e5l1j"
      },
      "source": [
        "#Validate if there are any negative values in Quantity column\n",
        "Rtl_data['quantity sold'].min()"
      ],
      "execution_count": null,
      "outputs": []
    },
    {
      "cell_type": "code",
      "metadata": {
        "id": "yh6T4qoT54eV"
      },
      "source": [
        "#Validate if there are any negative values in UnitPrice column\n",
        "Rtl_data['unit price'].min()"
      ],
      "execution_count": null,
      "outputs": []
    },
    {
      "cell_type": "code",
      "metadata": {
        "id": "wocrZ1Ax6Ig9"
      },
      "source": [
        "#Filter out records with negative values\n",
        "Rtl_data = Rtl_data[(Rtl_data['quantity sold']>0)]"
      ],
      "execution_count": null,
      "outputs": []
    },
    {
      "cell_type": "code",
      "metadata": {
        "id": "uLbdAiFJ6bgJ"
      },
      "source": [
        "#Convert the string date field to datetime\n",
        "Rtl_data['InvoiceDate'] = pd.to_datetime(Rtl_data['transaction timestamp'])"
      ],
      "execution_count": null,
      "outputs": []
    },
    {
      "cell_type": "code",
      "metadata": {
        "id": "2dp4cHgG6uvd"
      },
      "source": [
        "#Add new column depicting total amount\n",
        "Rtl_data['TotalAmount'] = Rtl_data['quantity sold'] * Rtl_data['unit price']"
      ],
      "execution_count": null,
      "outputs": []
    },
    {
      "cell_type": "code",
      "metadata": {
        "id": "e1NMhDnT67kp"
      },
      "source": [
        "#Check the shape (number of columns and rows) in the dataset after data is cleaned\n",
        "Rtl_data.shape"
      ],
      "execution_count": null,
      "outputs": []
    },
    {
      "cell_type": "code",
      "metadata": {
        "id": "Lr9inTZc7AMs"
      },
      "source": [
        "Rtl_data.head()"
      ],
      "execution_count": null,
      "outputs": []
    },
    {
      "cell_type": "code",
      "metadata": {
        "id": "XHYWHmOH7ERT"
      },
      "source": [
        ""
      ],
      "execution_count": null,
      "outputs": []
    },
    {
      "cell_type": "markdown",
      "metadata": {
        "id": "GmXFtmbg7L1S"
      },
      "source": [
        "# **Recency = Latest Date - Last Inovice Data**"
      ]
    },
    {
      "cell_type": "markdown",
      "metadata": {
        "id": "EEfEA6Xt7Sfz"
      },
      "source": [
        "# **Frequency = count of invoice no. of transaction(s)**"
      ]
    },
    {
      "cell_type": "markdown",
      "metadata": {
        "id": "rgUlmLFm7ilR"
      },
      "source": [
        "# **Monetary = Sum of Total Amount for each customer**"
      ]
    },
    {
      "cell_type": "code",
      "metadata": {
        "id": "3bqQ56sl7QkO"
      },
      "source": [
        "import datetime as dt"
      ],
      "execution_count": null,
      "outputs": []
    },
    {
      "cell_type": "code",
      "metadata": {
        "id": "W7Ftqa7t7si5"
      },
      "source": [
        "#Set Latest date 2011-12-10 as last invoice date was 2011-12-09. This is to calculate the number of days from recent purchase\n",
        "Latest_Date = dt.datetime(2011,12,10)"
      ],
      "execution_count": null,
      "outputs": []
    },
    {
      "cell_type": "code",
      "metadata": {
        "id": "Ltdu69Pb7wkU"
      },
      "source": [
        "#Create RFM Modelling scores for each customer\n",
        "RFMScores = Rtl_data.groupby('customer id').agg({'InvoiceDate': lambda x: (Latest_Date - x.max()).days, 'transaction id': lambda x: len(x), 'TotalAmount': lambda x: x.sum()})"
      ],
      "execution_count": null,
      "outputs": []
    },
    {
      "cell_type": "code",
      "metadata": {
        "id": "Aufts12P8Ctn"
      },
      "source": [
        "#Convert Invoice Date into type int\n",
        "RFMScores['InvoiceDate'] = RFMScores['InvoiceDate'].astype(int)\n"
      ],
      "execution_count": null,
      "outputs": []
    },
    {
      "cell_type": "code",
      "metadata": {
        "id": "vM6TH2xU8brC"
      },
      "source": [
        "#Rename column names to Recency, Frequency and Monetary\n",
        "RFMScores.rename(columns={'InvoiceDate': 'Recency', \n",
        "                         'transaction id': 'Frequency', \n",
        "                         'TotalAmount': 'Monetary'}, inplace=True)\n",
        "\n",
        "RFMScores.reset_index().head()"
      ],
      "execution_count": null,
      "outputs": []
    },
    {
      "cell_type": "code",
      "metadata": {
        "id": "Wpfhp7dk8oG4"
      },
      "source": [
        "#Descriptive Statistics (Recency)\n",
        "RFMScores.Recency.describe()"
      ],
      "execution_count": null,
      "outputs": []
    },
    {
      "cell_type": "code",
      "metadata": {
        "id": "tOPLirDu8te1"
      },
      "source": [
        "#Recency distribution plot\n",
        "import seaborn as sns\n",
        "x = RFMScores['Recency']\n",
        "ax = sns.distplot(x)"
      ],
      "execution_count": null,
      "outputs": []
    },
    {
      "cell_type": "code",
      "metadata": {
        "id": "Jq1MXKnX9LKu"
      },
      "source": [
        "#Descriptive Statistics (Frequency)\n",
        "RFMScores.Frequency.describe()"
      ],
      "execution_count": null,
      "outputs": []
    },
    {
      "cell_type": "code",
      "metadata": {
        "id": "pzEPDInV9Uqk"
      },
      "source": [
        "#Frequency distribution plot, taking observations which have frequency less than 1000\n",
        "import seaborn as sns\n",
        "x = RFMScores.query('Frequency < 1000')['Frequency']\n",
        "ax = sns.distplot(x)"
      ],
      "execution_count": null,
      "outputs": []
    },
    {
      "cell_type": "code",
      "metadata": {
        "id": "N96gNgq99nlr"
      },
      "source": [
        "#Descriptive Statistics (Monetary)\n",
        "RFMScores.Monetary.describe()"
      ],
      "execution_count": null,
      "outputs": []
    },
    {
      "cell_type": "code",
      "metadata": {
        "id": "-rdrFqsk9yNT"
      },
      "source": [
        "#Monateray distribution plot, taking observations which have monetary value less than 10000\n",
        "import seaborn as sns\n",
        "x = RFMScores.query('Monetary < 10000')['Monetary']\n",
        "ax = sns.distplot(x)"
      ],
      "execution_count": null,
      "outputs": []
    },
    {
      "cell_type": "code",
      "metadata": {
        "id": "BumgdqeV94cS"
      },
      "source": [
        "#Split into four segments using quantiles\n",
        "quantiles = RFMScores.quantile(q=[0.25,0.5,0.75])\n",
        "quantiles = quantiles.to_dict()"
      ],
      "execution_count": null,
      "outputs": []
    },
    {
      "cell_type": "code",
      "metadata": {
        "id": "xGwCoMZ69-f1"
      },
      "source": [
        "quantiles"
      ],
      "execution_count": null,
      "outputs": []
    },
    {
      "cell_type": "code",
      "metadata": {
        "id": "NnRupCnS-Brw"
      },
      "source": [
        "#Functions to create R, F and M segments\n",
        "def RScoring(x,p,d):\n",
        "    if x <= d[p][0.25]:\n",
        "        return 1\n",
        "    elif x <= d[p][0.50]:\n",
        "        return 2\n",
        "    elif x <= d[p][0.75]: \n",
        "        return 3\n",
        "    else:\n",
        "        return 4\n",
        "    \n",
        "def FnMScoring(x,p,d):\n",
        "    if x <= d[p][0.25]:\n",
        "        return 4\n",
        "    elif x <= d[p][0.50]:\n",
        "        return 3\n",
        "    elif x <= d[p][0.75]: \n",
        "        return 2\n",
        "    else:\n",
        "        return 1"
      ],
      "execution_count": null,
      "outputs": []
    },
    {
      "cell_type": "code",
      "metadata": {
        "id": "WWc_DHRq-PAd"
      },
      "source": [
        "#Calculate Add R, F and M segment value columns in the existing dataset to show R, F and M segment values\n",
        "RFMScores['R'] = RFMScores['Recency'].apply(RScoring, args=('Recency',quantiles,))\n",
        "RFMScores['F'] = RFMScores['Frequency'].apply(FnMScoring, args=('Frequency',quantiles,))\n",
        "RFMScores['M'] = RFMScores['Monetary'].apply(FnMScoring, args=('Monetary',quantiles,))\n",
        "RFMScores.head()"
      ],
      "execution_count": null,
      "outputs": []
    },
    {
      "cell_type": "code",
      "metadata": {
        "id": "E3hbKfQW-6KD"
      },
      "source": [
        "#Calculate and Add RFMGroup value column showing combined concatenated score of RFM\n",
        "RFMScores['RFMGroup'] = RFMScores.R.map(str) + RFMScores.F.map(str) + RFMScores.M.map(str)\n",
        "\n",
        "#Calculate and Add RFMScore value column showing total sum of RFMGroup values\n",
        "RFMScores['RFMScore'] = RFMScores[['R', 'F', 'M']].sum(axis = 1)\n",
        "RFMScores.head()"
      ],
      "execution_count": null,
      "outputs": []
    },
    {
      "cell_type": "code",
      "metadata": {
        "id": "C_YVX50E_IwI"
      },
      "source": [
        "#Assign Loyalty Level to each customer\n",
        "Loyalty_Level = ['Platinum', 'Gold', 'Silver', 'Bronze']\n",
        "Score_cuts = pd.qcut(RFMScores.RFMScore, q = 4, labels = Loyalty_Level)\n",
        "RFMScores['RFM_Loyalty_Level'] = Score_cuts.values\n",
        "RFMScores.reset_index().head()"
      ],
      "execution_count": null,
      "outputs": []
    },
    {
      "cell_type": "code",
      "metadata": {
        "id": "YAN8Ek8__RYu"
      },
      "source": [
        "#Validate the data for RFMGroup = 111\n",
        "RFMScores[RFMScores['RFMGroup']=='111'].sort_values('Monetary', ascending=False).reset_index()"
      ],
      "execution_count": null,
      "outputs": []
    },
    {
      "cell_type": "code",
      "metadata": {
        "id": "lL28W2Ol_bCs"
      },
      "source": [
        "#Validate the data for RFMGroup = 444\n",
        "RFMScores[RFMScores['RFMGroup']=='444'].sort_values('Monetary', ascending=False).reset_index()"
      ],
      "execution_count": null,
      "outputs": []
    },
    {
      "cell_type": "code",
      "metadata": {
        "id": "-5nGDvp3_n6K"
      },
      "source": [
        ""
      ],
      "execution_count": null,
      "outputs": []
    }
  ]
}